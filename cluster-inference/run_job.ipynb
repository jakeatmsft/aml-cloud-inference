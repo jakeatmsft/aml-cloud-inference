{
 "cells": [
  {
   "cell_type": "markdown",
   "metadata": {},
   "source": [
    "# Run Bank Marketing Inference Job via Python SDK\n",
    "This notebook demonstrates how to submit and monitor the command job that scores the Bank Marketing AutoML model on a compute cluster."
   ]
  },
  {
   "cell_type": "code",
   "execution_count": 69,
   "metadata": {},
   "outputs": [
    {
     "name": "stderr",
     "output_type": "stream",
     "text": [
      "Overriding of current TracerProvider is not allowed\n",
      "Overriding of current LoggerProvider is not allowed\n",
      "Overriding of current MeterProvider is not allowed\n",
      "Attempting to instrument while already instrumented\n",
      "Attempting to instrument while already instrumented\n",
      "Attempting to instrument while already instrumented\n",
      "Attempting to instrument while already instrumented\n",
      "Attempting to instrument while already instrumented\n"
     ]
    }
   ],
   "source": [
    "from azure.ai.ml import MLClient\n",
    "from azure.identity import DefaultAzureCredential\n",
    "from azure.ai.ml.entities import Job\n",
    "from azure.ai.ml import MLClient, load_job\n",
    "import os\n",
    "from dotenv import load_dotenv\n",
    "load_dotenv()\n",
    "\n",
    "# Initialize MLClient\n",
    "ml_client = MLClient(\n",
    "    DefaultAzureCredential(),\n",
    "    subscription_id=os.getenv(\"AZURE_SUBSCRIPTION_ID\"),\n",
    "    resource_group_name=os.getenv(\"AZURE_RESOURCE_GROUP\"),\n",
    "    workspace_name=os.getenv(\"AZURE_WORKSPACE_NAME\")\n",
    ")"
   ]
  },
  {
   "cell_type": "code",
   "execution_count": null,
   "metadata": {},
   "outputs": [],
   "source": [
    "model_name = \"best automl model\" #example \"azureml_calm_lion_57btkgfdw9_3_output_mlflow_log_model_1598679586\"\n",
    "model_version = \"1\""
   ]
  },
  {
   "cell_type": "code",
   "execution_count": 43,
   "metadata": {},
   "outputs": [],
   "source": [
    "ml_model = ml_client.models.get(model_name, model_version)  # Example to verify connection"
   ]
  },
  {
   "cell_type": "code",
   "execution_count": 44,
   "metadata": {},
   "outputs": [
    {
     "name": "stderr",
     "output_type": "stream",
     "text": [
      "AzureCliCredential.get_token_info failed: Failed to invoke the Azure CLI\n",
      "Downloading the model ExperimentRun/dcid.calm_lion_57btkgfdw9_3/outputs/mlflow-model at ./model\\azureml_calm_lion_57btkgfdw9_3_output_mlflow_log_model_1598679586\\mlflow-model\n",
      "\n"
     ]
    }
   ],
   "source": [
    "ml_client.models.download(name=model_name, version=model_version, download_path=\"./model\")"
   ]
  },
  {
   "cell_type": "code",
   "execution_count": null,
   "metadata": {},
   "outputs": [
    {
     "name": "stdout",
     "output_type": "stream",
     "text": [
      "Copied MLflow model directory to C:\\repo\\azureml-examples\\sdk\\python\\jobs\\automl-standalone-jobs\\automl-classification-task-bankmarketing\\cluster-inference\\model\\mlflow-model\n",
      "Contents: ['conda.yaml', 'MLmodel', 'model.pkl', 'python_env.yaml', 'requirements.txt']\n"
     ]
    }
   ],
   "source": [
    "# Replace the old cell content with this\n",
    "\n",
    "import shutil\n",
    "from pathlib import Path\n",
    "\n",
    "# Source folder produced by model download\n",
    "src_dir = Path(f\"./model/{model_name}/mlflow-model\")\n",
    "# Destination folder you want to use\n",
    "dst_dir = Path(\"./src/model/mlflow-model\")\n",
    "\n",
    "if not src_dir.exists():\n",
    "    raise FileNotFoundError(f\"Expected source directory not found: {src_dir.resolve()}\")\n",
    "\n",
    "# If you want to completely replace any previous copy:\n",
    "if dst_dir.exists():\n",
    "    # Remove the existing destination to ensure a clean copy\n",
    "    shutil.rmtree(dst_dir)\n",
    "\n",
    "# Copy the entire MLflow model directory\n",
    "shutil.copytree(src_dir, dst_dir)\n",
    "\n",
    "print(f\"Copied MLflow model directory to {dst_dir.resolve()}\")\n",
    "print(f\"Contents: {[p.name for p in dst_dir.iterdir()]}\")\n"
   ]
  },
  {
   "cell_type": "code",
   "execution_count": 50,
   "metadata": {},
   "outputs": [],
   "source": [
    "\n",
    "#remove the model folder\n",
    "shutil.rmtree(f\"./model/{model_name}\")"
   ]
  },
  {
   "cell_type": "code",
   "execution_count": null,
   "metadata": {},
   "outputs": [
    {
     "data": {
      "text/plain": [
       "'./environment.yml'"
      ]
     },
     "execution_count": 70,
     "metadata": {},
     "output_type": "execute_result"
    }
   ],
   "source": [
    "#copy environment from model directory to environment.yml\n",
    "\n",
    "import shutil\n",
    "\n",
    "shutil.copy(f\"./src/model/mlflow-model/conda.yaml\", \"./environment.yml\")\n"
   ]
  },
  {
   "cell_type": "code",
   "execution_count": 77,
   "metadata": {},
   "outputs": [
    {
     "name": "stderr",
     "output_type": "stream",
     "text": [
      "Warning: the provided asset name 'AzureML-ai-ml-automl' will not be used for anonymous registration\n"
     ]
    }
   ],
   "source": [
    "# Load job definition from job.yaml\n",
    "job = load_job(\"job.yaml\")"
   ]
  },
  {
   "cell_type": "code",
   "execution_count": 78,
   "metadata": {},
   "outputs": [
    {
     "name": "stderr",
     "output_type": "stream",
     "text": [
      "Uploading src (0.97 MBs): 100%|##########| 971659/971659 [00:01<00:00, 826608.58it/s]\n",
      "\n",
      "\n",
      "pathOnCompute is not a known attribute of class <class 'azure.ai.ml._restclient.v2023_04_01_preview.models._models_py3.UriFileJobOutput'> and will be ignored\n"
     ]
    },
    {
     "name": "stdout",
     "output_type": "stream",
     "text": [
      "RunId: sad_camera_q4h2smdrpg\n",
      "Web View: https://ml.azure.com/runs/sad_camera_q4h2smdrpg?wsid=/subscriptions/6025ba02-1dfd-407f-b358-88f811c7c7aa/resourcegroups/sc1-ml1/workspaces/sc1ml1\n",
      "\n",
      "Execution Summary\n",
      "=================\n",
      "RunId: sad_camera_q4h2smdrpg\n",
      "Web View: https://ml.azure.com/runs/sad_camera_q4h2smdrpg?wsid=/subscriptions/6025ba02-1dfd-407f-b358-88f811c7c7aa/resourcegroups/sc1-ml1/workspaces/sc1ml1\n",
      "\n"
     ]
    }
   ],
   "source": [
    "# Submit the job and wait for completion\n",
    "submitted_job = ml_client.jobs.create_or_update(job)\n",
    "ml_client.jobs.stream(submitted_job.name)"
   ]
  },
  {
   "cell_type": "code",
   "execution_count": null,
   "metadata": {},
   "outputs": [],
   "source": [
    "# Access the predictions output URI\n",
    "out_uri = submitted_job.outputs.predictions\n",
    "print(f\"Predictions saved to: {out_uri}\")"
   ]
  }
 ],
 "metadata": {
  "kernelspec": {
   "display_name": "lida",
   "language": "python",
   "name": "python3"
  },
  "language_info": {
   "codemirror_mode": {
    "name": "ipython",
    "version": 3
   },
   "file_extension": ".py",
   "mimetype": "text/x-python",
   "name": "python",
   "nbconvert_exporter": "python",
   "pygments_lexer": "ipython3",
   "version": "3.13.2"
  }
 },
 "nbformat": 4,
 "nbformat_minor": 2
}
