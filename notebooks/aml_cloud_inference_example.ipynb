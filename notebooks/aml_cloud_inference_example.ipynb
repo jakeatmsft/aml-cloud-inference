{
 "cells": [
  {
   "cell_type": "markdown",
   "metadata": {},
   "source": [
    "# Azure ML v2 Cloud Inference Example\n",
    "\n",
    "This notebook demonstrates how to deploy and use a machine learning model for cloud inference using Azure Machine Learning SDK v2.\n",
    "\n",
    "## Overview\n",
    "\n",
    "1. **Setup and Configuration**: Load required libraries and configure Azure ML workspace\n",
    "2. **Model Training**: Create and train a sample model\n",
    "3. **Model Registration**: Register the model in Azure ML\n",
    "4. **Endpoint Creation**: Create a managed online endpoint\n",
    "5. **Model Deployment**: Deploy the model to the endpoint\n",
    "6. **Testing**: Test the deployed model with various input formats\n",
    "7. **Cleanup**: Clean up resources when done"
   ]
  },
  {
   "cell_type": "markdown",
   "metadata": {},
   "source": [
    "## 1. Setup and Configuration"
   ]
  },
  {
   "cell_type": "code",
   "execution_count": null,
   "metadata": {},
   "outputs": [],
   "source": [
    "# Install required packages (run only if needed)\n",
    "# !pip install azure-ai-ml azure-identity scikit-learn pandas numpy joblib python-dotenv"
   ]
  },
  {
   "cell_type": "code",
   "execution_count": null,
   "metadata": {},
   "outputs": [],
   "source": [
    "import os\n",
    "import sys\n",
    "import json\n",
    "import pandas as pd\n",
    "import numpy as np\n",
    "from dotenv import load_dotenv\n",
    "\n",
    "# Add src directory to path\n",
    "sys.path.append('../src')\n",
    "\n",
    "from aml_cloud_inference import AMLCloudInference\n",
    "from model.train_model import create_sample_data, train_model, save_model_and_data\n",
    "\n",
    "# Load environment variables\n",
    "load_dotenv()\n",
    "\n",
    "print(\"✅ Libraries imported successfully!\")"
   ]
  },
  {
   "cell_type": "code",
   "execution_count": null,
   "metadata": {},
   "outputs": [],
   "source": [
    "# Configure Azure ML workspace\n",
    "config = {\n",
    "    \"subscription_id\": os.getenv(\"AZURE_SUBSCRIPTION_ID\"),\n",
    "    \"resource_group\": os.getenv(\"AZURE_RESOURCE_GROUP\"),\n",
    "    \"workspace_name\": os.getenv(\"AZURE_ML_WORKSPACE_NAME\"),\n",
    "}\n",
    "\n",
    "# Check configuration\n",
    "missing_vars = [k for k, v in config.items() if not v]\n",
    "if missing_vars:\n",
    "    print(\"❌ Missing environment variables:\")\n",
    "    for var in missing_vars:\n",
    "        print(f\"  - {var.upper()}\")\n",
    "    print(\"\\nPlease set these in your .env file or environment.\")\n",
    "else:\n",
    "    print(\"✅ Configuration loaded successfully!\")\n",
    "    print(f\"Workspace: {config['workspace_name']}\")\n",
    "    print(f\"Resource Group: {config['resource_group']}\")"
   ]
  },
  {
   "cell_type": "markdown",
   "metadata": {},
   "source": [
    "## 2. Model Training"
   ]
  },
  {
   "cell_type": "code",
   "execution_count": null,
   "metadata": {},
   "outputs": [],
   "source": [
    "# Create sample data\n",
    "print(\"📊 Creating sample data...\")\n",
    "X, y = create_sample_data(n_samples=1000, n_features=10)\n",
    "\n",
    "print(f\"Data shape: {X.shape}\")\n",
    "print(f\"Target distribution: {np.bincount(y)}\")\n",
    "print(\"✅ Sample data created!\")"
   ]
  },
  {
   "cell_type": "code",
   "execution_count": null,
   "metadata": {},
   "outputs": [],
   "source": [
    "# Train the model\n",
    "print(\"🤖 Training model...\")\n",
    "model = train_model(X, y)\n",
    "\n",
    "# Save model and sample data\n",
    "save_model_and_data(model, X, y, \"../src/model\")\n",
    "print(\"✅ Model training completed!\")"
   ]
  },
  {
   "cell_type": "markdown",
   "metadata": {},
   "source": [
    "## 3. Azure ML Setup"
   ]
  },
  {
   "cell_type": "code",
   "execution_count": null,
   "metadata": {},
   "outputs": [],
   "source": [
    "# Initialize Azure ML client\n",
    "print(\"🔗 Connecting to Azure ML workspace...\")\n",
    "client = AMLCloudInference(**config)\n",
    "print(\"✅ Connected to Azure ML workspace!\")"
   ]
  },
  {
   "cell_type": "code",
   "execution_count": null,
   "metadata": {},
   "outputs": [],
   "source": [
    "# List existing endpoints\n",
    "endpoints = client.list_endpoints()\n",
    "print(f\"📋 Found {len(endpoints)} existing endpoints:\")\n",
    "for endpoint in endpoints:\n",
    "    print(f\"  - {endpoint['name']}: {endpoint['scoring_uri']}\")"
   ]
  },
  {
   "cell_type": "markdown",
   "metadata": {},
   "source": [
    "## 4. Model Registration and Deployment"
   ]
  },
  {
   "cell_type": "code",
   "execution_count": null,
   "metadata": {},
   "outputs": [],
   "source": [
    "# Configuration for deployment\n",
    "model_name = \"notebook-sample-classifier\"\n",
    "endpoint_name = \"notebook-classifier-endpoint\"\n",
    "deployment_name = \"notebook-classifier-deployment\"\n",
    "\n",
    "print(f\"Model name: {model_name}\")\n",
    "print(f\"Endpoint name: {endpoint_name}\")\n",
    "print(f\"Deployment name: {deployment_name}\")"
   ]
  },
  {
   "cell_type": "code",
   "execution_count": null,
   "metadata": {},
   "outputs": [],
   "source": [
    "# Register the model\n",
    "print(f\"📝 Registering model '{model_name}'...\")\n",
    "registered_model = client.register_model(\n",
    "    model_name=model_name,\n",
    "    model_path=\"../src/model\",\n",
    "    description=\"Sample RandomForest classifier from Jupyter notebook\"\n",
    ")\n",
    "print(f\"✅ Model registered with version: {registered_model.version}\")"
   ]
  },
  {
   "cell_type": "code",
   "execution_count": null,
   "metadata": {},
   "outputs": [],
   "source": [
    "# Create endpoint\n",
    "print(f\"🌐 Creating endpoint '{endpoint_name}'...\")\n",
    "endpoint = client.create_endpoint(\n",
    "    endpoint_name=endpoint_name,\n",
    "    description=\"Sample endpoint created from Jupyter notebook\"\n",
    ")\n",
    "print(f\"✅ Endpoint created: {endpoint.scoring_uri}\")"
   ]
  },
  {
   "cell_type": "code",
   "execution_count": null,
   "metadata": {},
   "outputs": [],
   "source": [
    "# Create deployment (this may take several minutes)\n",
    "print(f\"🚀 Creating deployment '{deployment_name}'...\")\n",
    "print(\"⏱️ This may take 5-10 minutes...\")\n",
    "\n",
    "deployment = client.create_deployment(\n",
    "    endpoint_name=endpoint_name,\n",
    "    deployment_name=deployment_name,\n",
    "    model_name=model_name,\n",
    "    model_version=registered_model.version,\n",
    "    code_path=\"../src\",\n",
    "    scoring_script=\"score.py\",\n",
    "    instance_type=\"Standard_DS3_v2\",\n",
    "    instance_count=1\n",
    ")\n",
    "print(\"✅ Deployment created successfully!\")"
   ]
  },
  {
   "cell_type": "code",
   "execution_count": null,
   "metadata": {},
   "outputs": [],
   "source": [
    "# Set traffic to 100%\n",
    "print(\"🔄 Setting traffic allocation to 100%...\")\n",
    "client.set_traffic(endpoint_name, deployment_name, 100)\n",
    "print(\"✅ Traffic set to 100% for the deployment!\")"
   ]
  },
  {
   "cell_type": "markdown",
   "metadata": {},
   "source": [
    "## 5. Testing the Deployed Model"
   ]
  },
  {
   "cell_type": "code",
   "execution_count": null,
   "metadata": {},
   "outputs": [],
   "source": [
    "# Load sample data for testing\n",
    "sample_data = pd.read_csv(\"../src/model/sample_data.csv\")\n",
    "print(\"📊 Sample data for testing:\")\n",
    "sample_data.head()"
   ]
  },
  {
   "cell_type": "code",
   "execution_count": null,
   "metadata": {},
   "outputs": [],
   "source": [
    "# Test with standard format\n",
    "test_input = {\n",
    "    \"data\": sample_data.iloc[:3].values.tolist()\n",
    "}\n",
    "\n",
    "print(\"🧪 Testing with standard format...\")\n",
    "result = client.invoke_endpoint(endpoint_name, test_input)\n",
    "\n",
    "print(\"📊 Results:\")\n",
    "print(f\"Predictions: {result.get('predictions', [])}\")\n",
    "if 'probabilities' in result:\n",
    "    print(f\"Probabilities: {result['probabilities']}\")"
   ]
  },
  {
   "cell_type": "code",
   "execution_count": null,
   "metadata": {},
   "outputs": [],
   "source": [
    "# Test with dictionary format\n",
    "test_input_dict = {\n",
    "    \"inputs\": sample_data.iloc[:2].to_dict(\"list\")\n",
    "}\n",
    "\n",
    "print(\"🧪 Testing with dictionary format...\")\n",
    "result_dict = client.invoke_endpoint(endpoint_name, test_input_dict)\n",
    "\n",
    "print(\"📊 Results:\")\n",
    "print(f\"Predictions: {result_dict.get('predictions', [])}\")\n",
    "if 'probabilities' in result_dict:\n",
    "    print(f\"Probabilities: {result_dict['probabilities']}\")"
   ]
  },
  {
   "cell_type": "code",
   "execution_count": null,
   "metadata": {},
   "outputs": [],
   "source": [
    "# Performance test\n",
    "import time\n",
    "\n",
    "print(\"⚡ Performance test - making 10 requests...\")\n",
    "simple_input = {\"data\": [sample_data.iloc[0].values.tolist()]}\n",
    "\n",
    "start_time = time.time()\n",
    "results = []\n",
    "\n",
    "for i in range(10):\n",
    "    try:\n",
    "        result = client.invoke_endpoint(endpoint_name, simple_input)\n",
    "        results.append(result)\n",
    "    except Exception as e:\n",
    "        print(f\"Request {i+1} failed: {str(e)}\")\n",
    "\n",
    "end_time = time.time()\n",
    "duration = end_time - start_time\n",
    "\n",
    "print(f\"✅ {len(results)}/10 requests successful\")\n",
    "print(f\"⏱️ Total time: {duration:.2f} seconds\")\n",
    "print(f\"📊 Average time per request: {duration/10:.2f} seconds\")"
   ]
  },
  {
   "cell_type": "markdown",
   "metadata": {},
   "source": [
    "## 6. Endpoint Information"
   ]
  },
  {
   "cell_type": "code",
   "execution_count": null,
   "metadata": {},
   "outputs": [],
   "source": [
    "# Get updated endpoint information\n",
    "endpoints = client.list_endpoints()\n",
    "for ep in endpoints:\n",
    "    if ep[\"name\"] == endpoint_name:\n",
    "        print(\"📋 Endpoint Information:\")\n",
    "        print(f\"  Name: {ep['name']}\")\n",
    "        print(f\"  Scoring URI: {ep['scoring_uri']}\")\n",
    "        print(f\"  Auth Mode: {ep['auth_mode']}\")\n",
    "        print(f\"  Status: {ep['provisioning_state']}\")\n",
    "        break"
   ]
  },
  {
   "cell_type": "markdown",
   "metadata": {},
   "source": [
    "## 7. Cleanup (Optional)\n",
    "\n",
    "**⚠️ Warning**: Uncomment and run the cell below only when you're done with the endpoint, as it will delete all resources."
   ]
  },
  {
   "cell_type": "code",
   "execution_count": null,
   "metadata": {},
   "outputs": [],
   "source": [
    "# Uncomment to delete the endpoint and clean up resources\n",
    "# print(\"🧹 Cleaning up resources...\")\n",
    "# client.delete_endpoint(endpoint_name)\n",
    "# print(\"✅ Endpoint deleted successfully!\")"
   ]
  },
  {
   "cell_type": "markdown",
   "metadata": {},
   "source": [
    "## Summary\n",
    "\n",
    "This notebook demonstrated:\n",
    "\n",
    "1. ✅ **Model Training**: Created and trained a sample RandomForest classifier\n",
    "2. ✅ **Model Registration**: Registered the model in Azure ML workspace\n",
    "3. ✅ **Endpoint Creation**: Created a managed online endpoint\n",
    "4. ✅ **Model Deployment**: Deployed the model with proper scoring script\n",
    "5. ✅ **Testing**: Tested the endpoint with various input formats\n",
    "6. ✅ **Performance**: Measured endpoint response times\n",
    "\n",
    "### Next Steps\n",
    "\n",
    "- Use the scoring URI in your applications for real-time inference\n",
    "- Monitor the endpoint performance in Azure ML Studio\n",
    "- Scale the deployment based on your needs\n",
    "- Implement A/B testing with multiple deployments\n",
    "- Add authentication and security measures for production use\n",
    "\n",
    "### Resources\n",
    "\n",
    "- [Azure ML Documentation](https://docs.microsoft.com/en-us/azure/machine-learning/)\n",
    "- [Azure ML SDK v2 Reference](https://docs.microsoft.com/en-us/python/api/overview/azure/ai-ml-readme)\n",
    "- [Managed Online Endpoints](https://docs.microsoft.com/en-us/azure/machine-learning/concept-endpoints)"
   ]
  }
 ],
 "metadata": {
  "kernelspec": {
   "display_name": "Python 3",
   "language": "python",
   "name": "python3"
  },
  "language_info": {
   "codemirror_mode": {
    "name": "ipython",
    "version": 3
   },
   "file_extension": ".py",
   "mimetype": "text/x-python",
   "name": "python",
   "nbconvert_exporter": "python",
   "pygments_lexer": "ipython3",
   "version": "3.9.0"
  }
 },
 "nbformat": 4,
 "nbformat_minor": 4
}